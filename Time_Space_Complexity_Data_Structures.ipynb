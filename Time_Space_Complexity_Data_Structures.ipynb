{
 "cells": [
  {
   "cell_type": "markdown",
   "metadata": {},
   "source": [
    "# Time/Space Complexity - Intro to Data Structures (User Defined)\n",
    "\n",
    "### Topics to discuss today:\n",
    "\n",
    "<ul>\n",
    "    <li>Time and Space Complexity - What is it/How do we measure it</li>\n",
    "    <li>Asymptotic Analysis</li>\n",
    "    <li><strong>Data Structures</strong></li>\n",
    "</ul>\n",
    "\n",
    "### Data Structures to discuss:\n",
    "- Arrays\n",
    "- Stacks\n",
    "- Queues\n",
    "- Linked Lists\n",
    "    - Singly Linked Lists\n",
    "    - Traversing A Linked List\n",
    "    - Finding a node in a linked list\n",
    "    - Adding to a linked list\n",
    "- Binary Search Trees\n",
    "    - Construction\n",
    "    - Traversal\n"
   ]
  },
  {
   "cell_type": "markdown",
   "metadata": {},
   "source": [
    "## Time and Space Complexity\n",
    "\n",
    "#### What is it?\n",
    "\n",
    "Time and space complexity is the measure of how much time a given action(function) will take to solve a problem. In the same fashion, we determine how much a given data structure will need in terms of memory allocation. A problem can have multiple solutions and finding the optimal solution for the problem needs to be analyzed in time and space.\n",
    "\n",
    "- We're looking at relative time, based on the input size\n",
    "\n",
    "#### How do we measure Time and Space Complexity?\n",
    "\n",
    "In order to measure time and space complexity we use Asymptotic analysis. The reason for this is because we need a way to measure different algorithms (functions) based on the size of their inputs in a mathmatical way. For example, we could have a function that is computed as f(n) and another that is g(n^2). All things around the function staying constant, the only thing that changes is the size of the input. Below is the chart that shows the different Asymptotic analysis formats. "
   ]
  },
  {
   "cell_type": "markdown",
   "metadata": {},
   "source": [
    "<table style=\"text-align:center;\" class=\"table table-bordered\">\n",
    "<tbody><tr>\n",
    "<td>constant</td>\n",
    "<td>dictionaries, declarations</td>\n",
    "<td>Ο(1)</td>\n",
    "</tr>\n",
    "<tr>\n",
    "<td>logarithmic</td>\n",
    "<td>−</td>\n",
    "<td>Ο(log n)</td>\n",
    "</tr>\n",
    "<tr>\n",
    "<td>linear</td>\n",
    "<td>−</td>\n",
    "<td>Ο(n)</td>\n",
    "</tr>\n",
    "<tr>\n",
    "<td>Linear Logarithmic</td>\n",
    "<td>−</td>\n",
    "<td>Ο(n log n)</td>\n",
    "</tr>\n",
    "<tr>\n",
    "<td>quadratic</td>\n",
    "<td>−</td>\n",
    "<td>Ο(n<sup>2</sup>)</td>\n",
    "</tr>\n",
    "<tr>\n",
    "<td>cubic</td>\n",
    "<td>−</td>\n",
    "<td>Ο(n<sup>3</sup>)</td>\n",
    "</tr>\n",
    "<tr>\n",
    "<td>polynomial</td>\n",
    "<td>−</td>\n",
    "<td>n<sup>Ο(1)</sup></td>\n",
    "</tr>\n",
    "<tr>\n",
    "<td>exponential</td>\n",
    "<td>−</td>\n",
    "<td>2<sup>Ο(n)</sup></td>\n",
    "</tr>\n",
    "</tbody></table>"
   ]
  },
  {
   "cell_type": "code",
   "execution_count": null,
   "metadata": {},
   "outputs": [],
   "source": [
    "def func(x):\n",
    "    for i in x:  # linear - O(n)\n",
    "        print(i)  # constant - O(1)\n",
    "        \n",
    "O(n) + O(1) = O(n)  # you always \"rate\" a piece of code's time complexity by the slowest part\n",
    "\n",
    "\n",
    "def func2(x):\n",
    "    for i in x:  # linear - O(n)\n",
    "        for j in i: \n",
    "            print(j)  # constant - O(1)\n",
    "            \n",
    "O(n) * O(n) = O(n^2) # func2 is quadratic"
   ]
  },
  {
   "cell_type": "markdown",
   "metadata": {},
   "source": [
    "## Arrays"
   ]
  },
  {
   "cell_type": "markdown",
   "metadata": {},
   "source": [
    "In python we benefit from the *dynamic array* which means the block of memory will expand as needed for the given input to the array. In traditional arrays (depending on the type of operating system) we will usually store our inputs in 4 or 8 consecutive blocks of memory. Below is a diagram of how that looks under the hood:\n",
    "\n",
    "<img src=\"http://www.mathcs.emory.edu/~cheung/Courses/170/Syllabus/09/FIGS/array02x.gif\" style=\"height:250px; width:350px;\">"
   ]
  },
  {
   "cell_type": "markdown",
   "metadata": {},
   "source": [
    "## Which in python looks like this:"
   ]
  },
  {
   "cell_type": "code",
   "execution_count": 1,
   "metadata": {},
   "outputs": [
    {
     "name": "stdout",
     "output_type": "stream",
     "text": [
      "[1, 2, 3, 4, 5]\n"
     ]
    }
   ],
   "source": [
    "arr = [1, 2, 3, 4, 5]\n",
    "print(arr)"
   ]
  },
  {
   "cell_type": "markdown",
   "metadata": {},
   "source": [
    "### Let's take a look at some of the time and space analysis of arrays"
   ]
  },
  {
   "cell_type": "code",
   "execution_count": null,
   "metadata": {},
   "outputs": [],
   "source": [
    "# Indexing a list\n",
    "indexing = arr[1]  # constant time and space - O(1)\n",
    "\n",
    "# Searching through a list\n",
    "for i in arr:  # linear time - O(n), constant space - O(1)\n",
    "    print(i)\n",
    "    \n",
    "# Copying a list\n",
    "copy_arr = arr[:]  # O(n), O(n)\n",
    "\n",
    "# setting an index in a list\n",
    "arr[4] = 0  # O(1), O(1)"
   ]
  },
  {
   "cell_type": "markdown",
   "metadata": {},
   "source": [
    "## Stacks and Queues (Review)\n",
    "\n",
    "** Stacks ** as the name suggests is a data structure that allows for data to follow the Last In First Out priciple(LIFO). Think of a stack of pancakes for example. To get the first pancake you would  start with the top and go down.\n",
    "\n",
    "##### Searching through a stack will be Linear Time O(n) - Constant Space O(1)\n",
    "##### Selecting the last item will be done in Constant Time O(1) - Constant Space O(1)\n",
    "##### Adding to the stack should take Constant Time O(1) - Constant Space O(1)\n",
    "\n",
    "** Queues ** are similar but in this case follow the First In First Out principle(FIFO). Think of this as a line in a black friday sale. The first person camped out for the big screen tv is the first to get it.\n",
    "\n",
    "##### Searching through a queue will be Linear Time O(n) - Constant Space O(1)\n",
    "##### Selecting the first item will be done in Constant Time O(1) - Constant Space O(1)\n",
    "##### Adding to the queue should take Constant Time O(1) - Constant Space O(1)"
   ]
  },
  {
   "cell_type": "code",
   "execution_count": 7,
   "metadata": {},
   "outputs": [
    {
     "name": "stdout",
     "output_type": "stream",
     "text": [
      "[20, 30, 50]\n",
      "50\n",
      "20\n",
      "30\n",
      "50\n",
      "First item: Roberto\n"
     ]
    }
   ],
   "source": [
    "# pseudo-stack\n",
    "stack = []\n",
    "stack.append(20)\n",
    "stack.append(30)\n",
    "stack.append(50)\n",
    "\n",
    "last_item = stack.pop()\n",
    "stack.append(50)\n",
    "\n",
    "print(stack)\n",
    "print(last_item)\n",
    "\n",
    "# searching through a stack\n",
    "for i in stack:\n",
    "    print(i)\n",
    "    \n",
    "# psuedo-queue\n",
    "queue = [\"Roberto\", \"Maria\", \"Rita\"]\n",
    "first_item = queue.pop(0)\n",
    "print(f\"First item: {first_item}\")"
   ]
  },
  {
   "cell_type": "markdown",
   "metadata": {},
   "source": [
    "## Linked List (Data Structure)\n",
    "\n",
    "A linked list is created by using the node class. We create a Node object and create another class to use this node object. We pass the appropriate values thorugh the node object to point the to the next data elements.\n",
    "\n",
    "There are some advantages and disadvantages with this data structure. **Advantages** Linked Lists can save memory because they can be flexibile with memory management which saves memory. **Disadvantages** Finding or adding to the list requires traversing the entire list."
   ]
  },
  {
   "cell_type": "code",
   "execution_count": 16,
   "metadata": {},
   "outputs": [
    {
     "name": "stdout",
     "output_type": "stream",
     "text": [
      "Mon\n",
      "Tue\n",
      "Wed\n",
      "Thur\n",
      "\n",
      "\n",
      "Mon\n",
      "Tue\n",
      "Wed\n",
      "Thur\n",
      "None\n"
     ]
    }
   ],
   "source": [
    "# example\n",
    "\n",
    "class LinkedListNode():\n",
    "    def __init__(self, value):\n",
    "        self.value = value\n",
    "        self.next = None\n",
    "        \n",
    "    def traverseList(self):\n",
    "        node = self\n",
    "        while node != None:\n",
    "            print(node.value)\n",
    "            node = node.next\n",
    "\n",
    "node_1 = LinkedListNode(\"Mon\")\n",
    "node_2 = LinkedListNode(\"Tue\")\n",
    "node_3 = LinkedListNode(\"Wed\")\n",
    "node_4 = LinkedListNode(\"Thur\")\n",
    "\n",
    "node_1.next = node_2\n",
    "node_2.next = node_3\n",
    "node_3.next = node_4\n",
    "\n",
    "print(node_1.value)\n",
    "print(node_1.next.value)\n",
    "print(node_1.next.next.value)\n",
    "print(node_1.next.next.next.value)\n",
    "print(\"\\n\")\n",
    "print(node_1.traverseList())"
   ]
  },
  {
   "cell_type": "code",
   "execution_count": 24,
   "metadata": {},
   "outputs": [],
   "source": [
    "# complete implementation of a linked list\n",
    "\n",
    "# 2 componenets to the solution: Node class, and LinkedList class\n",
    "\n",
    "class Node():\n",
    "    def __init__(self, value):\n",
    "        self.value = value\n",
    "        self.next = None\n",
    "        \n",
    "class LinkedList():\n",
    "    def __init__(self):\n",
    "        self.head = None\n",
    "        \n",
    "    def pushOn(self, new_value):  # adds a new node and makes it the new head of the linked list\n",
    "        new_node = Node(new_value)\n",
    "        new_node.next = self.head  # set the .next attribute of new node to current front of list\n",
    "        self.head = new_node  # set front of list to the new node\n",
    "        \n",
    "    def insertAfter(self, prev_node, new_value):\n",
    "        # check if there is a previous node\n",
    "        if prev_node is None:\n",
    "            print(\"The given node must not be empty\")\n",
    "            return \n",
    "        # if the previous node isn't empty, create a new node\n",
    "        new_node = Node(new_value)\n",
    "        # update the new_node's .next to point to the previous node's old next\n",
    "        new_node.next = prev_node.next\n",
    "        # update the previous node's .next to point to the new node\n",
    "        prev_node.next = new_node\n",
    "        \n",
    "    def append(self, new_value):  # appends a new node to the end of the linked list]\n",
    "        new_node = Node(new_value)\n",
    "        # check if LinkedList is empty\n",
    "        if self.head is None:\n",
    "            self.head = new_node\n",
    "            \n",
    "        # if the list ISN'T empty, traverse to the end of the list, and add the new_node to the end of the list\n",
    "        last = self.head\n",
    "        \n",
    "        # While last.next is not None --> continue to loop until we find a none value\n",
    "        while last.next:\n",
    "            last = last.next\n",
    "        \n",
    "        # change the current last node's .next value to the new last node\n",
    "        last.next = new_node\n",
    "        \n",
    "    def traverse(self):\n",
    "        temp = self.head \n",
    "        # while temp is NOT none -> keep looping through the links until you reach a None value\n",
    "        while temp:\n",
    "            print(temp.value)\n",
    "            temp = temp.next"
   ]
  },
  {
   "cell_type": "code",
   "execution_count": 29,
   "metadata": {},
   "outputs": [
    {
     "name": "stdout",
     "output_type": "stream",
     "text": [
      "Mon\n",
      "Tue\n",
      "Thur\n",
      "\n",
      "\n",
      "Mon\n",
      "Tue\n",
      "Wed\n",
      "Thur\n"
     ]
    }
   ],
   "source": [
    "weekday_links = LinkedList()\n",
    "\n",
    "weekday_links.pushOn(\"Mon\")\n",
    "weekday_links.append(\"Tue\")\n",
    "weekday_links.append(\"Thur\")\n",
    "weekday_links.traverse()\n",
    "weekday_links.insertAfter(weekday_links.head.next, \"Wed\")\n",
    "print(\"\\n\")\n",
    "weekday_links.traverse()"
   ]
  },
  {
   "cell_type": "markdown",
   "metadata": {},
   "source": [
    "## Binary Search Trees"
   ]
  },
  {
   "cell_type": "code",
   "execution_count": 33,
   "metadata": {},
   "outputs": [
    {
     "data": {
      "text/plain": [
       "'Found it!'"
      ]
     },
     "execution_count": 33,
     "metadata": {},
     "output_type": "execute_result"
    }
   ],
   "source": [
    "# visualization: https://www.cs.usfca.edu/~galles/visualization/BST.html\n",
    "\n",
    "class BST():\n",
    "    def __init__(self, value):\n",
    "        self.value = value\n",
    "        self.right = None\n",
    "        self.left = None\n",
    "        \n",
    "    def insert(self, value):\n",
    "        if value < self.value:\n",
    "            if self.left is None:\n",
    "                self.left = BST(value)\n",
    "            else:\n",
    "                self.left.insert(value) # recursively loops through each node to the left until it reaches the end\n",
    "        else:                           # of the branch\n",
    "            if self.right is None:\n",
    "                self.right = BST(value)\n",
    "            else:\n",
    "                self.right.insert(value)\n",
    "        return self\n",
    "    \n",
    "    def contains(self, value):\n",
    "        \"\"\"\n",
    "        This method searches for an integer in the binary search tree. It returns a string\n",
    "        to indicate whether the integer is found in the BST\n",
    "        \"\"\"\n",
    "        if value == self.value:\n",
    "            return \"Found it!\"\n",
    "        elif value < self.value:\n",
    "            if self.left is None:\n",
    "                return \"Ain't here\" \n",
    "            else:\n",
    "                return self.left.contains(value)\n",
    "        elif value > self.value:\n",
    "            if self.right is None:\n",
    "                return \"Ain't here\" \n",
    "            else:\n",
    "                return self.right.contains(value)\n",
    "            \n",
    "    def getMinValue(self):\n",
    "        if self.left is None:\n",
    "            return self.left\n",
    "        else:\n",
    "            self.left.getMinValue()\n",
    "            \n",
    "    def getMaxValue(self):\n",
    "        if self.right is None:\n",
    "            return self.right\n",
    "        else:\n",
    "            self.right.getMaxValue()\n",
    "            \n",
    "            \n",
    "    def remove(self, value, parent=None):\n",
    "        if value < self.value:\n",
    "            if self.left is not None:\n",
    "                self.left.remove(value, self)\n",
    "        elif value > self.value:\n",
    "            if self.right is not None:\n",
    "                self.left.remove(value, self)\n",
    "        else: \n",
    "            if self.left is not None and self.right is not None:\n",
    "                self.value = self.right.getMinValue()\n",
    "                self.right.remove(self.value, self)\n",
    "            elif parent is None:\n",
    "                if self.left is not None:\n",
    "                    self.value = self.left.value\n",
    "                    self.right = self.left.right\n",
    "                    self.left = self.left.left\n",
    "                elif self.right is not None:\n",
    "                    self.value = self.right.value\n",
    "                    self.left = self.right.left\n",
    "                    self.right = self.right.right\n",
    "                else:\n",
    "                    self.value = None\n",
    "            elif parent.left == self:\n",
    "                parent.left = self.left if self.left is not None else self.right\n",
    "            elif parent.right == self:\n",
    "                parent.right = self.right if self.right is not None else self.left\n",
    "        return self\n",
    "                    \n",
    "tree = BST(3)\n",
    "tree.insert(23)\n",
    "tree.insert(2)\n",
    "tree.insert(46)\n",
    "tree.insert(15)\n",
    "tree.contains(2)"
   ]
  },
  {
   "cell_type": "markdown",
   "metadata": {},
   "source": [
    "# Homework"
   ]
  },
  {
   "cell_type": "markdown",
   "metadata": {},
   "source": [
    "#### Problem 1: Linked Lists\n",
    "\n",
    "Using the above examples as a guide, create your own interpretation of the a Linked List class. You can not use the code above exactly, but again it can be used as a guide. This problem requires you to think about how a linked list works and create one using your own logic.\n",
    "\n",
    "*Remember* A Linked List is a list of Nodes that point to the next node in the chain. The first Node starts out as Empty(None) and each node after points to the next.\n",
    "\n",
    "Your Linked List should have a traverse method and have the ability to add a new node"
   ]
  },
  {
   "cell_type": "code",
   "execution_count": 46,
   "metadata": {},
   "outputs": [
    {
     "name": "stdout",
     "output_type": "stream",
     "text": [
      "Amazing! A whole flock of Tinkling Cisticolas.\n",
      "Amazing! A whole flock of Fluffy-Backed Tit-Babblers.\n",
      "Amazing! A whole flock of Tropical Boubous.\n",
      "Amazing! A whole flock of Kentish Plovers.\n",
      "None\n",
      "Amazing! A whole flock of Tinkling Cisticolas.\n",
      "Amazing! A whole flock of Fluffy-Backed Tit-Babblers.\n",
      "Amazing! A whole flock of Tawny Frogmouths.\n",
      "Amazing! A whole flock of Tropical Boubous.\n",
      "Amazing! A whole flock of Kentish Plovers.\n",
      "None\n"
     ]
    }
   ],
   "source": [
    "# I need to either commit to each variable being a new instance of the a single class,\n",
    "# or do the two-class (Node and LinkedList) solution. \n",
    "\n",
    "class Birds:\n",
    "    \n",
    "    def __init__(self, value):\n",
    "        self.value = value\n",
    "        self.next = None\n",
    "        self.new_node = None\n",
    "        self.node_in_front = None\n",
    "        \n",
    "    def traverseList(self):\n",
    "        node = self.value\n",
    "        if node != None:\n",
    "            print(f\"Amazing! A whole flock of {node}s.\")\n",
    "            self.next.traverseList()\n",
    "        else:\n",
    "            print(node)\n",
    "        \n",
    "    def insertNodeAfter(self, new_node):\n",
    "        new_node.next = self.next\n",
    "        self.next = new_node\n",
    "\n",
    "first_node = Birds(None)\n",
    "tinkling = Birds(\"Tinkling Cisticola\")\n",
    "fluffy = Birds(\"Fluffy-Backed Tit-Babbler\")\n",
    "tropical = Birds(\"Tropical Boubou\")\n",
    "kentish = Birds(\"Kentish Plover\")\n",
    "\n",
    "tinkling.next = fluffy\n",
    "fluffy.next = tropical\n",
    "tropical.next = kentish\n",
    "kentish.next = first_node\n",
    "\n",
    "tinkling.traverseList()\n",
    "\n",
    "tawny = Birds(\"Tawny Frogmouth\")\n",
    "fluffy.insertNodeAfter(tawny)\n",
    "tinkling.traverseList()"
   ]
  },
  {
   "cell_type": "markdown",
   "metadata": {},
   "source": [
    "#### Problem 2: Binary Search Tree\n",
    "\n",
    "Using the above examples as a guide, create your own interpretation of the a Binary Search Tree class. You can not use the code above exactly, but again it can be used as a guide. This problem requires you to think about how a Binary Search Tree works and create one using your own logic.\n",
    "\n",
    "*Remember* Binary Search Trees start with a head node and each node to the left of that will be smaller, each node to the right of it will be greater. The far left node should be the lowest number(if one exists) that is available. The far right node (if one exists) should be the greatest number"
   ]
  },
  {
   "cell_type": "code",
   "execution_count": 106,
   "metadata": {},
   "outputs": [
    {
     "name": "stdout",
     "output_type": "stream",
     "text": [
      "3\n",
      "4\n",
      "15\n",
      "1\n",
      "Here's the min: 1\n",
      "Here's the max: 15\n",
      "Node 4 removed\n"
     ]
    }
   ],
   "source": [
    "class BST:\n",
    "    def __init__(self, value):\n",
    "        self.value = value\n",
    "        self.right = None\n",
    "        self.left = None\n",
    "        \n",
    "    def addNode(self, value):\n",
    "        if value < self.value:\n",
    "            if self.left == None:\n",
    "                self.left = BST(value)\n",
    "            else:\n",
    "                self.left.addNode(value)\n",
    "        elif value >= self.value:\n",
    "            if self.right == None:\n",
    "                self.right = BST(value)\n",
    "            else:\n",
    "                self.right.addNode(value)\n",
    "        \n",
    "    def removeNode(self):\n",
    "        # This will work better if you go from the top and pass a value argument (the value of the node you want\n",
    "        # to delete). Right now it works, but it has limited functionality. \n",
    "        if self.left == None and self.right == None:\n",
    "            print(f\"Node {self.value} removed\")\n",
    "            self.value = None    \n",
    "        elif self.left != None and self.right == None:\n",
    "            print(f\"Node {self.value} removed, and replaced by {self.left.value}\")\n",
    "            self = self.left\n",
    "        elif self.right != None and self.left == None:\n",
    "            print(f\"Node {self.value} removed, and replaced by {self.right.value}\")\n",
    "            self = self.right    \n",
    "        \n",
    "    def findMin(self):\n",
    "        if self.left == None:\n",
    "            print(f\"Here's the min: {self.value}\")\n",
    "        elif self.value > self.left.value:\n",
    "            self.left.findMin() \n",
    "        \n",
    "    def findMax(self):\n",
    "        if self.right == None:\n",
    "            print(f\"Here's the max: {self.value}\")\n",
    "        elif self.value < self.right.value:\n",
    "            self.right.findMax()\n",
    "            \n",
    "        \n",
    "binary = BST(6)\n",
    "binary.addNode(3)\n",
    "print(binary.left.value)\n",
    "binary.addNode(4)\n",
    "print(binary.left.right.value)\n",
    "binary.addNode(15)\n",
    "print(binary.right.value)\n",
    "binary.addNode(1)\n",
    "print(binary.left.left.value)\n",
    "binary.findMin()\n",
    "binary.findMax()\n",
    "binary.left.right.removeNode()\n"
   ]
  },
  {
   "cell_type": "code",
   "execution_count": null,
   "metadata": {},
   "outputs": [],
   "source": []
  }
 ],
 "metadata": {
  "kernelspec": {
   "display_name": "Python 3",
   "language": "python",
   "name": "python3"
  },
  "language_info": {
   "codemirror_mode": {
    "name": "ipython",
    "version": 3
   },
   "file_extension": ".py",
   "mimetype": "text/x-python",
   "name": "python",
   "nbconvert_exporter": "python",
   "pygments_lexer": "ipython3",
   "version": "3.8.5"
  }
 },
 "nbformat": 4,
 "nbformat_minor": 2
}
